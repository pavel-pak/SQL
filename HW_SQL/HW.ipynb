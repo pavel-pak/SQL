{
 "cells": [
  {
   "cell_type": "code",
   "execution_count": 1,
   "metadata": {},
   "outputs": [],
   "source": [
    "import pandas as pd \n",
    "import sqlite3"
   ]
  },
  {
   "cell_type": "code",
   "execution_count": 92,
   "metadata": {},
   "outputs": [],
   "source": [
    "path_data = \"D:\\\\Pavel_Homework\\\\HW_SQL\\\\bank_account_data.csv\""
   ]
  },
  {
   "cell_type": "code",
   "execution_count": 93,
   "metadata": {},
   "outputs": [],
   "source": [
    "df_data = pd.read_csv(path_data, sep=';')"
   ]
  },
  {
   "cell_type": "code",
   "execution_count": 94,
   "metadata": {},
   "outputs": [
    {
     "data": {
      "text/html": [
       "<div>\n",
       "<style scoped>\n",
       "    .dataframe tbody tr th:only-of-type {\n",
       "        vertical-align: middle;\n",
       "    }\n",
       "\n",
       "    .dataframe tbody tr th {\n",
       "        vertical-align: top;\n",
       "    }\n",
       "\n",
       "    .dataframe thead th {\n",
       "        text-align: right;\n",
       "    }\n",
       "</style>\n",
       "<table border=\"1\" class=\"dataframe\">\n",
       "  <thead>\n",
       "    <tr style=\"text-align: right;\">\n",
       "      <th></th>\n",
       "      <th>Cust_ID</th>\n",
       "      <th>Purchase</th>\n",
       "      <th>Cheq_Bal</th>\n",
       "      <th>Sav_Bal</th>\n",
       "      <th>Debt_Bal</th>\n",
       "      <th>Joint_Acct</th>\n",
       "      <th>Age</th>\n",
       "      <th>Date</th>\n",
       "    </tr>\n",
       "  </thead>\n",
       "  <tbody>\n",
       "    <tr>\n",
       "      <th>0</th>\n",
       "      <td>1</td>\n",
       "      <td>0</td>\n",
       "      <td>1739,48</td>\n",
       "      <td>26918,18</td>\n",
       "      <td>12563,93</td>\n",
       "      <td>0</td>\n",
       "      <td>49</td>\n",
       "      <td>NaN</td>\n",
       "    </tr>\n",
       "    <tr>\n",
       "      <th>1</th>\n",
       "      <td>2</td>\n",
       "      <td>0</td>\n",
       "      <td>2862,35</td>\n",
       "      <td>23093,67</td>\n",
       "      <td>15457,88</td>\n",
       "      <td>0</td>\n",
       "      <td>39</td>\n",
       "      <td>NaN</td>\n",
       "    </tr>\n",
       "    <tr>\n",
       "      <th>2</th>\n",
       "      <td>3</td>\n",
       "      <td>0</td>\n",
       "      <td>2296,66</td>\n",
       "      <td>18037,33</td>\n",
       "      <td>12721,89</td>\n",
       "      <td>0</td>\n",
       "      <td>52</td>\n",
       "      <td>NaN</td>\n",
       "    </tr>\n",
       "    <tr>\n",
       "      <th>3</th>\n",
       "      <td>4</td>\n",
       "      <td>1</td>\n",
       "      <td>2880,28</td>\n",
       "      <td>32317,63</td>\n",
       "      <td>7075,03</td>\n",
       "      <td>0</td>\n",
       "      <td>28</td>\n",
       "      <td>30.04.2017</td>\n",
       "    </tr>\n",
       "    <tr>\n",
       "      <th>4</th>\n",
       "      <td>5</td>\n",
       "      <td>0</td>\n",
       "      <td>998,27</td>\n",
       "      <td>15110,04</td>\n",
       "      <td>11356,13</td>\n",
       "      <td>0</td>\n",
       "      <td>43</td>\n",
       "      <td>NaN</td>\n",
       "    </tr>\n",
       "    <tr>\n",
       "      <th>...</th>\n",
       "      <td>...</td>\n",
       "      <td>...</td>\n",
       "      <td>...</td>\n",
       "      <td>...</td>\n",
       "      <td>...</td>\n",
       "      <td>...</td>\n",
       "      <td>...</td>\n",
       "      <td>...</td>\n",
       "    </tr>\n",
       "    <tr>\n",
       "      <th>195</th>\n",
       "      <td>196</td>\n",
       "      <td>0</td>\n",
       "      <td>2215,39</td>\n",
       "      <td>20050,87</td>\n",
       "      <td>11307,01</td>\n",
       "      <td>0</td>\n",
       "      <td>32</td>\n",
       "      <td>NaN</td>\n",
       "    </tr>\n",
       "    <tr>\n",
       "      <th>196</th>\n",
       "      <td>197</td>\n",
       "      <td>0</td>\n",
       "      <td>2074,33</td>\n",
       "      <td>22808,68</td>\n",
       "      <td>7880,16</td>\n",
       "      <td>0</td>\n",
       "      <td>27</td>\n",
       "      <td>NaN</td>\n",
       "    </tr>\n",
       "    <tr>\n",
       "      <th>197</th>\n",
       "      <td>198</td>\n",
       "      <td>0</td>\n",
       "      <td>1224,07</td>\n",
       "      <td>29926,97</td>\n",
       "      <td>5637,92</td>\n",
       "      <td>0</td>\n",
       "      <td>44</td>\n",
       "      <td>NaN</td>\n",
       "    </tr>\n",
       "    <tr>\n",
       "      <th>198</th>\n",
       "      <td>199</td>\n",
       "      <td>0</td>\n",
       "      <td>2617,27</td>\n",
       "      <td>14316,61</td>\n",
       "      <td>9445,28</td>\n",
       "      <td>0</td>\n",
       "      <td>38</td>\n",
       "      <td>NaN</td>\n",
       "    </tr>\n",
       "    <tr>\n",
       "      <th>199</th>\n",
       "      <td>200</td>\n",
       "      <td>0</td>\n",
       "      <td>2125,45</td>\n",
       "      <td>25687,52</td>\n",
       "      <td>4559,63</td>\n",
       "      <td>0</td>\n",
       "      <td>56</td>\n",
       "      <td>NaN</td>\n",
       "    </tr>\n",
       "  </tbody>\n",
       "</table>\n",
       "<p>200 rows × 8 columns</p>\n",
       "</div>"
      ],
      "text/plain": [
       "     Cust_ID  Purchase Cheq_Bal   Sav_Bal  Debt_Bal  Joint_Acct  Age  \\\n",
       "0          1         0  1739,48  26918,18  12563,93           0   49   \n",
       "1          2         0  2862,35  23093,67  15457,88           0   39   \n",
       "2          3         0  2296,66  18037,33  12721,89           0   52   \n",
       "3          4         1  2880,28  32317,63   7075,03           0   28   \n",
       "4          5         0   998,27  15110,04  11356,13           0   43   \n",
       "..       ...       ...      ...       ...       ...         ...  ...   \n",
       "195      196         0  2215,39  20050,87  11307,01           0   32   \n",
       "196      197         0  2074,33  22808,68   7880,16           0   27   \n",
       "197      198         0  1224,07  29926,97   5637,92           0   44   \n",
       "198      199         0  2617,27  14316,61   9445,28           0   38   \n",
       "199      200         0  2125,45  25687,52   4559,63           0   56   \n",
       "\n",
       "           Date  \n",
       "0           NaN  \n",
       "1           NaN  \n",
       "2           NaN  \n",
       "3    30.04.2017  \n",
       "4           NaN  \n",
       "..          ...  \n",
       "195         NaN  \n",
       "196         NaN  \n",
       "197         NaN  \n",
       "198         NaN  \n",
       "199         NaN  \n",
       "\n",
       "[200 rows x 8 columns]"
      ]
     },
     "execution_count": 94,
     "metadata": {},
     "output_type": "execute_result"
    }
   ],
   "source": [
    "df_data"
   ]
  },
  {
   "cell_type": "code",
   "execution_count": 95,
   "metadata": {},
   "outputs": [
    {
     "name": "stdout",
     "output_type": "stream",
     "text": [
      "<class 'pandas.core.frame.DataFrame'>\n",
      "RangeIndex: 200 entries, 0 to 199\n",
      "Data columns (total 8 columns):\n",
      " #   Column      Non-Null Count  Dtype \n",
      "---  ------      --------------  ----- \n",
      " 0   Cust_ID     200 non-null    int64 \n",
      " 1   Purchase    200 non-null    int64 \n",
      " 2   Cheq_Bal    200 non-null    object\n",
      " 3   Sav_Bal     200 non-null    object\n",
      " 4   Debt_Bal    200 non-null    object\n",
      " 5   Joint_Acct  200 non-null    int64 \n",
      " 6   Age         200 non-null    int64 \n",
      " 7   Date        39 non-null     object\n",
      "dtypes: int64(4), object(4)\n",
      "memory usage: 12.6+ KB\n"
     ]
    }
   ],
   "source": [
    "df_data.info()"
   ]
  },
  {
   "attachments": {},
   "cell_type": "markdown",
   "metadata": {},
   "source": [
    "# перевод чисел в float \n"
   ]
  },
  {
   "cell_type": "code",
   "execution_count": 96,
   "metadata": {},
   "outputs": [],
   "source": [
    "for i in range(200):\n",
    "    df_data.loc[i,\"Cheq_Bal\"] = float(df_data.loc[i,\"Cheq_Bal\"].replace(',','.'))\n",
    "    df_data.loc[i,\"Sav_Bal\"] = float(df_data.loc[i,\"Sav_Bal\"].replace(',','.'))\n",
    "    df_data.loc[i,\"Debt_Bal\"] = float(df_data.loc[i,\"Debt_Bal\"].replace(',','.'))"
   ]
  },
  {
   "cell_type": "code",
   "execution_count": 97,
   "metadata": {},
   "outputs": [],
   "source": [
    "df_data[\"Cheq_Bal\"] = pd.to_numeric(df_data[\"Cheq_Bal\"])\n",
    "df_data[\"Sav_Bal\"] = pd.to_numeric(df_data[\"Sav_Bal\"])\n",
    "df_data[\"Debt_Bal\"] = pd.to_numeric(df_data[\"Debt_Bal\"])"
   ]
  },
  {
   "cell_type": "code",
   "execution_count": 98,
   "metadata": {},
   "outputs": [
    {
     "name": "stdout",
     "output_type": "stream",
     "text": [
      "<class 'pandas.core.frame.DataFrame'>\n",
      "RangeIndex: 200 entries, 0 to 199\n",
      "Data columns (total 8 columns):\n",
      " #   Column      Non-Null Count  Dtype  \n",
      "---  ------      --------------  -----  \n",
      " 0   Cust_ID     200 non-null    int64  \n",
      " 1   Purchase    200 non-null    int64  \n",
      " 2   Cheq_Bal    200 non-null    float64\n",
      " 3   Sav_Bal     200 non-null    float64\n",
      " 4   Debt_Bal    200 non-null    float64\n",
      " 5   Joint_Acct  200 non-null    int64  \n",
      " 6   Age         200 non-null    int64  \n",
      " 7   Date        39 non-null     object \n",
      "dtypes: float64(3), int64(4), object(1)\n",
      "memory usage: 12.6+ KB\n"
     ]
    }
   ],
   "source": [
    "df_data.info()"
   ]
  },
  {
   "cell_type": "code",
   "execution_count": 99,
   "metadata": {},
   "outputs": [
    {
     "data": {
      "text/html": [
       "<div>\n",
       "<style scoped>\n",
       "    .dataframe tbody tr th:only-of-type {\n",
       "        vertical-align: middle;\n",
       "    }\n",
       "\n",
       "    .dataframe tbody tr th {\n",
       "        vertical-align: top;\n",
       "    }\n",
       "\n",
       "    .dataframe thead th {\n",
       "        text-align: right;\n",
       "    }\n",
       "</style>\n",
       "<table border=\"1\" class=\"dataframe\">\n",
       "  <thead>\n",
       "    <tr style=\"text-align: right;\">\n",
       "      <th></th>\n",
       "      <th>Cust_ID</th>\n",
       "      <th>Purchase</th>\n",
       "      <th>Cheq_Bal</th>\n",
       "      <th>Sav_Bal</th>\n",
       "      <th>Debt_Bal</th>\n",
       "      <th>Joint_Acct</th>\n",
       "      <th>Age</th>\n",
       "    </tr>\n",
       "  </thead>\n",
       "  <tbody>\n",
       "    <tr>\n",
       "      <th>count</th>\n",
       "      <td>200.000000</td>\n",
       "      <td>200.000000</td>\n",
       "      <td>200.000000</td>\n",
       "      <td>200.000000</td>\n",
       "      <td>200.000000</td>\n",
       "      <td>200.000000</td>\n",
       "      <td>200.000000</td>\n",
       "    </tr>\n",
       "    <tr>\n",
       "      <th>mean</th>\n",
       "      <td>100.500000</td>\n",
       "      <td>0.195000</td>\n",
       "      <td>2145.093500</td>\n",
       "      <td>22084.428950</td>\n",
       "      <td>8638.369600</td>\n",
       "      <td>0.295000</td>\n",
       "      <td>38.535000</td>\n",
       "    </tr>\n",
       "    <tr>\n",
       "      <th>std</th>\n",
       "      <td>57.879185</td>\n",
       "      <td>0.397195</td>\n",
       "      <td>652.712779</td>\n",
       "      <td>6048.106705</td>\n",
       "      <td>5280.852405</td>\n",
       "      <td>0.457187</td>\n",
       "      <td>11.336284</td>\n",
       "    </tr>\n",
       "    <tr>\n",
       "      <th>min</th>\n",
       "      <td>1.000000</td>\n",
       "      <td>0.000000</td>\n",
       "      <td>644.310000</td>\n",
       "      <td>6558.910000</td>\n",
       "      <td>0.000000</td>\n",
       "      <td>0.000000</td>\n",
       "      <td>18.000000</td>\n",
       "    </tr>\n",
       "    <tr>\n",
       "      <th>25%</th>\n",
       "      <td>50.750000</td>\n",
       "      <td>0.000000</td>\n",
       "      <td>1720.077500</td>\n",
       "      <td>18079.045000</td>\n",
       "      <td>4608.445000</td>\n",
       "      <td>0.000000</td>\n",
       "      <td>31.000000</td>\n",
       "    </tr>\n",
       "    <tr>\n",
       "      <th>50%</th>\n",
       "      <td>100.500000</td>\n",
       "      <td>0.000000</td>\n",
       "      <td>2108.125000</td>\n",
       "      <td>21374.210000</td>\n",
       "      <td>8272.175000</td>\n",
       "      <td>0.000000</td>\n",
       "      <td>37.000000</td>\n",
       "    </tr>\n",
       "    <tr>\n",
       "      <th>75%</th>\n",
       "      <td>150.250000</td>\n",
       "      <td>0.000000</td>\n",
       "      <td>2522.927500</td>\n",
       "      <td>25722.047500</td>\n",
       "      <td>12725.722500</td>\n",
       "      <td>1.000000</td>\n",
       "      <td>47.000000</td>\n",
       "    </tr>\n",
       "    <tr>\n",
       "      <th>max</th>\n",
       "      <td>200.000000</td>\n",
       "      <td>1.000000</td>\n",
       "      <td>4437.440000</td>\n",
       "      <td>39132.630000</td>\n",
       "      <td>20559.700000</td>\n",
       "      <td>1.000000</td>\n",
       "      <td>60.000000</td>\n",
       "    </tr>\n",
       "  </tbody>\n",
       "</table>\n",
       "</div>"
      ],
      "text/plain": [
       "          Cust_ID    Purchase     Cheq_Bal       Sav_Bal      Debt_Bal  \\\n",
       "count  200.000000  200.000000   200.000000    200.000000    200.000000   \n",
       "mean   100.500000    0.195000  2145.093500  22084.428950   8638.369600   \n",
       "std     57.879185    0.397195   652.712779   6048.106705   5280.852405   \n",
       "min      1.000000    0.000000   644.310000   6558.910000      0.000000   \n",
       "25%     50.750000    0.000000  1720.077500  18079.045000   4608.445000   \n",
       "50%    100.500000    0.000000  2108.125000  21374.210000   8272.175000   \n",
       "75%    150.250000    0.000000  2522.927500  25722.047500  12725.722500   \n",
       "max    200.000000    1.000000  4437.440000  39132.630000  20559.700000   \n",
       "\n",
       "       Joint_Acct         Age  \n",
       "count  200.000000  200.000000  \n",
       "mean     0.295000   38.535000  \n",
       "std      0.457187   11.336284  \n",
       "min      0.000000   18.000000  \n",
       "25%      0.000000   31.000000  \n",
       "50%      0.000000   37.000000  \n",
       "75%      1.000000   47.000000  \n",
       "max      1.000000   60.000000  "
      ]
     },
     "execution_count": 99,
     "metadata": {},
     "output_type": "execute_result"
    }
   ],
   "source": [
    "df_data.describe()"
   ]
  },
  {
   "attachments": {},
   "cell_type": "markdown",
   "metadata": {},
   "source": [
    "# Подключение БД\n"
   ]
  },
  {
   "cell_type": "code",
   "execution_count": 100,
   "metadata": {},
   "outputs": [],
   "source": [
    "# create database\n",
    "сonnect  = sqlite3.connect('database.db')\n",
    "c = сonnect.cursor()"
   ]
  },
  {
   "cell_type": "code",
   "execution_count": 102,
   "metadata": {},
   "outputs": [
    {
     "data": {
      "text/plain": [
       "200"
      ]
     },
     "execution_count": 102,
     "metadata": {},
     "output_type": "execute_result"
    }
   ],
   "source": [
    "# создание таблицы \n",
    "c.execute('CREATE TABLE IF NOT EXISTS data (Cust_ID, Purchase, Cheq_Bal, Sav_Bal, Debt_Bal , Joint_Acct, Age , Date )')\n",
    "df_data.to_sql('data', conn, if_exists='replace', index = False)"
   ]
  },
  {
   "cell_type": "code",
   "execution_count": 103,
   "metadata": {},
   "outputs": [],
   "source": [
    "c.execute(\"PRAGMA table_info(data)\")\n",
    "data = c.fetchmany(8)"
   ]
  },
  {
   "cell_type": "code",
   "execution_count": 104,
   "metadata": {},
   "outputs": [
    {
     "data": {
      "text/plain": [
       "[(0, 'Cust_ID', 'INTEGER', 0, None, 0),\n",
       " (1, 'Purchase', 'INTEGER', 0, None, 0),\n",
       " (2, 'Cheq_Bal', 'REAL', 0, None, 0),\n",
       " (3, 'Sav_Bal', 'REAL', 0, None, 0),\n",
       " (4, 'Debt_Bal', 'REAL', 0, None, 0),\n",
       " (5, 'Joint_Acct', 'INTEGER', 0, None, 0),\n",
       " (6, 'Age', 'INTEGER', 0, None, 0),\n",
       " (7, 'Date', 'TEXT', 0, None, 0)]"
      ]
     },
     "execution_count": 104,
     "metadata": {},
     "output_type": "execute_result"
    }
   ],
   "source": [
    "data"
   ]
  },
  {
   "attachments": {},
   "cell_type": "markdown",
   "metadata": {},
   "source": [
    "Опишите имеющиеся колонки в данных - сделайте аналог describe в pandas для колонок."
   ]
  },
  {
   "cell_type": "code",
   "execution_count": 106,
   "metadata": {},
   "outputs": [],
   "source": [
    "def calculate_describe_sql(conn):\n",
    "    conn.execute(\"PRAGMA table_info(data)\")\n",
    "    data_columns = c.fetchmany(8)\n",
    "    list_name_columns = ['count', 'avg', 'max', 'min']\n",
    "    list_name = []\n",
    "    list_count = []\n",
    "    list_avg = []\n",
    "    list_max = []\n",
    "    list_min= []\n",
    "    for column in data_columns:\n",
    "        list_name.append(column[1])\n",
    "        # count\n",
    "        conn.execute(f\"SELECT COUNT({column[1]}) FROM data\")\n",
    "        list_count.append(conn.fetchmany(1))\n",
    "        # avg\n",
    "        conn.execute(f\"SELECT AVG({column[1]}) FROM data\")\n",
    "        list_avg.append(conn.fetchmany(1))\n",
    "        # max \n",
    "        conn.execute(f\"SELECT MAX({column[1]}) FROM data\")\n",
    "        list_max.append(conn.fetchmany(1))\n",
    "        # min\n",
    "        conn.execute(f\"SELECT MIN({column[1]}) FROM data\")\n",
    "        list_min.append(conn.fetchmany(1))\n",
    "\n",
    "    list_data = [list_count, list_avg, list_max, list_min]\n",
    "    print(\"   \", end=\" \")\n",
    "    for i in range(len(list_name)):\n",
    "        print(list_name[i], end=\" \") \n",
    "    print()\n",
    "    for j in range(len(list_name_columns)):\n",
    "        print(list_name_columns[j], end=\" \")\n",
    "        for i in range(len(list_name)):\n",
    "            print(list_data[j][i][0][0], end=\" \")\n",
    "        print()"
   ]
  },
  {
   "cell_type": "code",
   "execution_count": 107,
   "metadata": {},
   "outputs": [
    {
     "name": "stdout",
     "output_type": "stream",
     "text": [
      "    Cust_ID Purchase Cheq_Bal Sav_Bal Debt_Bal Joint_Acct Age Date \n",
      "count 200 200 200 200 200 200 200 39 \n",
      "avg 100.5 0.195 2145.0935000000004 22084.428949999987 8638.3696 0.295 38.535 16.008974358974356 \n",
      "max 200 1 4437.44 39132.63 20559.7 1 60 30.05.2017 \n",
      "min 1 0 644.31 6558.91 0.0 0 18 01.04.2017 \n"
     ]
    }
   ],
   "source": [
    "calculate_describe_sql(c)"
   ]
  },
  {
   "attachments": {},
   "cell_type": "markdown",
   "metadata": {},
   "source": [
    "Посчитайте совокупный объем средств у клиентов в банке - сумма по всем балансам."
   ]
  },
  {
   "cell_type": "code",
   "execution_count": 125,
   "metadata": {},
   "outputs": [],
   "source": [
    "def calculate_balance(conn):\n",
    "    conn.execute(\"SELECT COUNT(Cheq_Bal) FROM data\")\n",
    "    conn.execute(\"SELECT Cust_ID, (Cheq_Bal+Sav_Bal+Debt_Bal) AS balance FROM data \")\n",
    "    сonnect.commit()\n",
    "    print(\"Запись успешно обновлена\")\n",
    "    ss = conn.fetchall()\n",
    "    for i in ss:\n",
    "        print(\"Cust_ID:\", i[0], \" sum_balance:\", i[1])"
   ]
  },
  {
   "cell_type": "code",
   "execution_count": 126,
   "metadata": {},
   "outputs": [
    {
     "name": "stdout",
     "output_type": "stream",
     "text": [
      "Запись успешно обновлена\n",
      "Cust_ID: 1  sum_balance: 41221.59\n",
      "Cust_ID: 2  sum_balance: 41413.899999999994\n",
      "Cust_ID: 3  sum_balance: 33055.880000000005\n",
      "Cust_ID: 4  sum_balance: 42272.94\n",
      "Cust_ID: 5  sum_balance: 27464.440000000002\n",
      "Cust_ID: 6  sum_balance: 41838.280000000006\n",
      "Cust_ID: 7  sum_balance: 29915.27\n",
      "Cust_ID: 8  sum_balance: 26400.71\n",
      "Cust_ID: 9  sum_balance: 51973.18\n",
      "Cust_ID: 10  sum_balance: 30965.510000000002\n",
      "Cust_ID: 11  sum_balance: 38132.88\n",
      "Cust_ID: 12  sum_balance: 43615.76\n",
      "Cust_ID: 13  sum_balance: 28965.989999999998\n",
      "Cust_ID: 14  sum_balance: 34723.399999999994\n",
      "Cust_ID: 15  sum_balance: 33394.45\n",
      "Cust_ID: 16  sum_balance: 33410.5\n",
      "Cust_ID: 17  sum_balance: 39208.030000000006\n",
      "Cust_ID: 18  sum_balance: 36566.619999999995\n",
      "Cust_ID: 19  sum_balance: 31412.699999999997\n",
      "Cust_ID: 20  sum_balance: 29944.98\n",
      "Cust_ID: 21  sum_balance: 16621.58\n",
      "Cust_ID: 22  sum_balance: 43763.35999999999\n",
      "Cust_ID: 23  sum_balance: 41000.759999999995\n",
      "Cust_ID: 24  sum_balance: 35033.89\n",
      "Cust_ID: 25  sum_balance: 37658.87\n",
      "Cust_ID: 26  sum_balance: 36597.9\n",
      "Cust_ID: 27  sum_balance: 20303.280000000002\n",
      "Cust_ID: 28  sum_balance: 37608.76\n",
      "Cust_ID: 29  sum_balance: 33428.73\n",
      "Cust_ID: 30  sum_balance: 16806.010000000002\n",
      "Cust_ID: 31  sum_balance: 22830.14\n",
      "Cust_ID: 32  sum_balance: 23578.079999999998\n",
      "Cust_ID: 33  sum_balance: 43978.75\n",
      "Cust_ID: 34  sum_balance: 31366.08\n",
      "Cust_ID: 35  sum_balance: 38462.28\n",
      "Cust_ID: 36  sum_balance: 35089.36\n",
      "Cust_ID: 37  sum_balance: 28494.54\n",
      "Cust_ID: 38  sum_balance: 24674.59\n",
      "Cust_ID: 39  sum_balance: 27133.739999999998\n",
      "Cust_ID: 40  sum_balance: 43671.2\n",
      "Cust_ID: 41  sum_balance: 34262.72\n",
      "Cust_ID: 42  sum_balance: 37492.09\n",
      "Cust_ID: 43  sum_balance: 35805.83\n",
      "Cust_ID: 44  sum_balance: 36323.68\n",
      "Cust_ID: 45  sum_balance: 23271.79\n",
      "Cust_ID: 46  sum_balance: 28802.08\n",
      "Cust_ID: 47  sum_balance: 34586.07000000001\n",
      "Cust_ID: 48  sum_balance: 27015.409999999996\n",
      "Cust_ID: 49  sum_balance: 34820.350000000006\n",
      "Cust_ID: 50  sum_balance: 15987.57\n",
      "Cust_ID: 51  sum_balance: 30261.550000000003\n",
      "Cust_ID: 52  sum_balance: 27428.53\n",
      "Cust_ID: 53  sum_balance: 28945.909999999996\n",
      "Cust_ID: 54  sum_balance: 43562.82\n",
      "Cust_ID: 55  sum_balance: 37085.06\n",
      "Cust_ID: 56  sum_balance: 38949.97\n",
      "Cust_ID: 57  sum_balance: 32198.39\n",
      "Cust_ID: 58  sum_balance: 31658.410000000003\n",
      "Cust_ID: 59  sum_balance: 39350.42\n",
      "Cust_ID: 60  sum_balance: 32417.27\n",
      "Cust_ID: 61  sum_balance: 33326.380000000005\n",
      "Cust_ID: 62  sum_balance: 35482.69\n",
      "Cust_ID: 63  sum_balance: 42816.03\n",
      "Cust_ID: 64  sum_balance: 25898.920000000002\n",
      "Cust_ID: 65  sum_balance: 37290.09\n",
      "Cust_ID: 66  sum_balance: 26233.949999999997\n",
      "Cust_ID: 67  sum_balance: 29766.050000000003\n",
      "Cust_ID: 68  sum_balance: 43735.55\n",
      "Cust_ID: 69  sum_balance: 32492.949999999997\n",
      "Cust_ID: 70  sum_balance: 27780.369999999995\n",
      "Cust_ID: 71  sum_balance: 18320.079999999998\n",
      "Cust_ID: 72  sum_balance: 32272.260000000002\n",
      "Cust_ID: 73  sum_balance: 41285.11\n",
      "Cust_ID: 74  sum_balance: 35751.509999999995\n",
      "Cust_ID: 75  sum_balance: 38323.8\n",
      "Cust_ID: 76  sum_balance: 36686.9\n",
      "Cust_ID: 77  sum_balance: 37178.22\n",
      "Cust_ID: 78  sum_balance: 38179.22\n",
      "Cust_ID: 79  sum_balance: 21233.91\n",
      "Cust_ID: 80  sum_balance: 39748.909999999996\n",
      "Cust_ID: 81  sum_balance: 34516.24\n",
      "Cust_ID: 82  sum_balance: 28567.600000000002\n",
      "Cust_ID: 83  sum_balance: 21019.95\n",
      "Cust_ID: 84  sum_balance: 35021.11\n",
      "Cust_ID: 85  sum_balance: 33171.09\n",
      "Cust_ID: 86  sum_balance: 19900.05\n",
      "Cust_ID: 87  sum_balance: 36492.840000000004\n",
      "Cust_ID: 88  sum_balance: 28222.059999999998\n",
      "Cust_ID: 89  sum_balance: 28145.48\n",
      "Cust_ID: 90  sum_balance: 32551.83\n",
      "Cust_ID: 91  sum_balance: 35935.41\n",
      "Cust_ID: 92  sum_balance: 24463.56\n",
      "Cust_ID: 93  sum_balance: 42296.27\n",
      "Cust_ID: 94  sum_balance: 36198.11\n",
      "Cust_ID: 95  sum_balance: 30839.850000000002\n",
      "Cust_ID: 96  sum_balance: 25808.260000000002\n",
      "Cust_ID: 97  sum_balance: 36387.7\n",
      "Cust_ID: 98  sum_balance: 28905.18\n",
      "Cust_ID: 99  sum_balance: 29658.18\n",
      "Cust_ID: 100  sum_balance: 27718.12\n",
      "Cust_ID: 101  sum_balance: 29509.28\n",
      "Cust_ID: 102  sum_balance: 25973.47\n",
      "Cust_ID: 103  sum_balance: 32851.68\n",
      "Cust_ID: 104  sum_balance: 39936.9\n",
      "Cust_ID: 105  sum_balance: 32039.37\n",
      "Cust_ID: 106  sum_balance: 39545.909999999996\n",
      "Cust_ID: 107  sum_balance: 29282.489999999998\n",
      "Cust_ID: 108  sum_balance: 40096.47\n",
      "Cust_ID: 109  sum_balance: 26457.0\n",
      "Cust_ID: 110  sum_balance: 36038.95\n",
      "Cust_ID: 111  sum_balance: 39336.13\n",
      "Cust_ID: 112  sum_balance: 27992.83\n",
      "Cust_ID: 113  sum_balance: 31944.739999999998\n",
      "Cust_ID: 114  sum_balance: 33039.48\n",
      "Cust_ID: 115  sum_balance: 32863.71\n",
      "Cust_ID: 116  sum_balance: 26536.83\n",
      "Cust_ID: 117  sum_balance: 35882.32\n",
      "Cust_ID: 118  sum_balance: 25186.63\n",
      "Cust_ID: 119  sum_balance: 36488.17\n",
      "Cust_ID: 120  sum_balance: 30897.48\n",
      "Cust_ID: 121  sum_balance: 20758.530000000002\n",
      "Cust_ID: 122  sum_balance: 24076.059999999998\n",
      "Cust_ID: 123  sum_balance: 33874.33\n",
      "Cust_ID: 124  sum_balance: 35604.61\n",
      "Cust_ID: 125  sum_balance: 35488.74\n",
      "Cust_ID: 126  sum_balance: 35645.82\n",
      "Cust_ID: 127  sum_balance: 36908.05\n",
      "Cust_ID: 128  sum_balance: 37430.33\n",
      "Cust_ID: 129  sum_balance: 32038.15\n",
      "Cust_ID: 130  sum_balance: 19324.98\n",
      "Cust_ID: 131  sum_balance: 36414.68\n",
      "Cust_ID: 132  sum_balance: 56297.509999999995\n",
      "Cust_ID: 133  sum_balance: 26346.82\n",
      "Cust_ID: 134  sum_balance: 25031.299999999996\n",
      "Cust_ID: 135  sum_balance: 48689.479999999996\n",
      "Cust_ID: 136  sum_balance: 34816.520000000004\n",
      "Cust_ID: 137  sum_balance: 34788.08\n",
      "Cust_ID: 138  sum_balance: 34746.06\n",
      "Cust_ID: 139  sum_balance: 34422.26\n",
      "Cust_ID: 140  sum_balance: 29653.620000000003\n",
      "Cust_ID: 141  sum_balance: 25731.18\n",
      "Cust_ID: 142  sum_balance: 30643.42\n",
      "Cust_ID: 143  sum_balance: 25136.54\n",
      "Cust_ID: 144  sum_balance: 36362.25\n",
      "Cust_ID: 145  sum_balance: 37188.149999999994\n",
      "Cust_ID: 146  sum_balance: 38210.28\n",
      "Cust_ID: 147  sum_balance: 34430.31\n",
      "Cust_ID: 148  sum_balance: 37307.619999999995\n",
      "Cust_ID: 149  sum_balance: 32727.18\n",
      "Cust_ID: 150  sum_balance: 34688.380000000005\n",
      "Cust_ID: 151  sum_balance: 28970.25\n",
      "Cust_ID: 152  sum_balance: 46599.270000000004\n",
      "Cust_ID: 153  sum_balance: 30962.29\n",
      "Cust_ID: 154  sum_balance: 36663.549999999996\n",
      "Cust_ID: 155  sum_balance: 29369.39\n",
      "Cust_ID: 156  sum_balance: 31721.07\n",
      "Cust_ID: 157  sum_balance: 39017.619999999995\n",
      "Cust_ID: 158  sum_balance: 26943.88\n",
      "Cust_ID: 159  sum_balance: 20443.76\n",
      "Cust_ID: 160  sum_balance: 38166.64\n",
      "Cust_ID: 161  sum_balance: 30843.82\n",
      "Cust_ID: 162  sum_balance: 28747.01\n",
      "Cust_ID: 163  sum_balance: 34129.270000000004\n",
      "Cust_ID: 164  sum_balance: 22190.9\n",
      "Cust_ID: 165  sum_balance: 23232.98\n",
      "Cust_ID: 166  sum_balance: 34450.56\n",
      "Cust_ID: 167  sum_balance: 32632.590000000004\n",
      "Cust_ID: 168  sum_balance: 32017.36\n",
      "Cust_ID: 169  sum_balance: 28944.559999999998\n",
      "Cust_ID: 170  sum_balance: 38360.62\n",
      "Cust_ID: 171  sum_balance: 24459.42\n",
      "Cust_ID: 172  sum_balance: 29759.03\n",
      "Cust_ID: 173  sum_balance: 49070.600000000006\n",
      "Cust_ID: 174  sum_balance: 32203.02\n",
      "Cust_ID: 175  sum_balance: 37420.71\n",
      "Cust_ID: 176  sum_balance: 23457.6\n",
      "Cust_ID: 177  sum_balance: 38347.74\n",
      "Cust_ID: 178  sum_balance: 33120.35\n",
      "Cust_ID: 179  sum_balance: 24714.129999999997\n",
      "Cust_ID: 180  sum_balance: 33877.26\n",
      "Cust_ID: 181  sum_balance: 38312.08\n",
      "Cust_ID: 182  sum_balance: 39206.16999999999\n",
      "Cust_ID: 183  sum_balance: 39404.270000000004\n",
      "Cust_ID: 184  sum_balance: 31366.030000000002\n",
      "Cust_ID: 185  sum_balance: 34242.6\n",
      "Cust_ID: 186  sum_balance: 28140.09\n",
      "Cust_ID: 187  sum_balance: 22496.879999999997\n",
      "Cust_ID: 188  sum_balance: 28439.579999999998\n",
      "Cust_ID: 189  sum_balance: 33563.69\n",
      "Cust_ID: 190  sum_balance: 41777.07\n",
      "Cust_ID: 191  sum_balance: 37666.64\n",
      "Cust_ID: 192  sum_balance: 21765.809999999998\n",
      "Cust_ID: 193  sum_balance: 26886.16\n",
      "Cust_ID: 194  sum_balance: 37870.32\n",
      "Cust_ID: 195  sum_balance: 39198.909999999996\n",
      "Cust_ID: 196  sum_balance: 33573.27\n",
      "Cust_ID: 197  sum_balance: 32763.170000000002\n",
      "Cust_ID: 198  sum_balance: 36788.96\n",
      "Cust_ID: 199  sum_balance: 26379.160000000003\n",
      "Cust_ID: 200  sum_balance: 32372.600000000002\n"
     ]
    }
   ],
   "source": [
    "calculate_balance(c)"
   ]
  },
  {
   "attachments": {},
   "cell_type": "markdown",
   "metadata": {},
   "source": [
    "Выведите только тех клиентов, которые приобрели ипотеку (колонка mortgage)."
   ]
  },
  {
   "cell_type": "code",
   "execution_count": 138,
   "metadata": {},
   "outputs": [],
   "source": [
    "def view_ipot(conn):\n",
    "    conn.execute(\"SELECT COUNT(Cheq_Bal) FROM data\")\n",
    "    conn.execute(\"SELECT Cust_ID, Date AS mortgage FROM data WHERE Date != 'None'\")\n",
    "    сonnect.commit()\n",
    "    print(\"Запись успешно обновлена\")\n",
    "    ss = conn.fetchall()\n",
    "    for i in ss:\n",
    "        print(\"Cust_ID:\", i[0], \" data mortgage:\", i[1])"
   ]
  },
  {
   "cell_type": "code",
   "execution_count": 139,
   "metadata": {},
   "outputs": [
    {
     "name": "stdout",
     "output_type": "stream",
     "text": [
      "Запись успешно обновлена\n",
      "Cust_ID: 4  data mortgage: 30.04.2017\n",
      "Cust_ID: 6  data mortgage: 30.05.2017\n",
      "Cust_ID: 7  data mortgage: 13.08.2017\n",
      "Cust_ID: 11  data mortgage: 16.05.2017\n",
      "Cust_ID: 13  data mortgage: 07.07.2017\n",
      "Cust_ID: 17  data mortgage: 29.06.2017\n",
      "Cust_ID: 18  data mortgage: 29.08.2017\n",
      "Cust_ID: 20  data mortgage: 22.07.2017\n",
      "Cust_ID: 22  data mortgage: 04.04.2017\n",
      "Cust_ID: 31  data mortgage: 30.05.2017\n",
      "Cust_ID: 36  data mortgage: 22.04.2017\n",
      "Cust_ID: 38  data mortgage: 09.08.2017\n",
      "Cust_ID: 40  data mortgage: 11.07.2017\n",
      "Cust_ID: 41  data mortgage: 25.08.2017\n",
      "Cust_ID: 54  data mortgage: 15.04.2017\n",
      "Cust_ID: 56  data mortgage: 29.05.2017\n",
      "Cust_ID: 59  data mortgage: 19.05.2017\n",
      "Cust_ID: 60  data mortgage: 19.04.2017\n",
      "Cust_ID: 74  data mortgage: 29.07.2017\n",
      "Cust_ID: 76  data mortgage: 23.04.2017\n",
      "Cust_ID: 80  data mortgage: 09.07.2017\n",
      "Cust_ID: 87  data mortgage: 25.04.2017\n",
      "Cust_ID: 91  data mortgage: 05.07.2017\n",
      "Cust_ID: 93  data mortgage: 12.04.2017\n",
      "Cust_ID: 94  data mortgage: 17.08.2017\n",
      "Cust_ID: 97  data mortgage: 13.07.2017\n",
      "Cust_ID: 100  data mortgage: 02.07.2017\n",
      "Cust_ID: 107  data mortgage: 15.08.2017\n",
      "Cust_ID: 111  data mortgage: 19.06.2017\n",
      "Cust_ID: 113  data mortgage: 08.06.2017\n",
      "Cust_ID: 132  data mortgage: 01.08.2017\n",
      "Cust_ID: 146  data mortgage: 02.07.2017\n",
      "Cust_ID: 154  data mortgage: 14.08.2017\n",
      "Cust_ID: 166  data mortgage: 28.05.2017\n",
      "Cust_ID: 169  data mortgage: 19.06.2017\n",
      "Cust_ID: 182  data mortgage: 03.05.2017\n",
      "Cust_ID: 184  data mortgage: 15.06.2017\n",
      "Cust_ID: 185  data mortgage: 01.04.2017\n",
      "Cust_ID: 189  data mortgage: 03.07.2017\n"
     ]
    }
   ],
   "source": [
    "view_ipot(c)"
   ]
  },
  {
   "attachments": {},
   "cell_type": "markdown",
   "metadata": {},
   "source": [
    "Какой совокупный объем средств в среднем у клиентов, которые приобрели ипотеку и у клиентов, которые её не приобретали?"
   ]
  },
  {
   "cell_type": "code",
   "execution_count": 169,
   "metadata": {},
   "outputs": [],
   "source": [
    "def comparison(conn):\n",
    "    conn.execute(\"SELECT COUNT(Cheq_Bal) FROM data\")\n",
    "    conn.execute(\"SELECT SUM(Cheq_Bal+Sav_Bal+Debt_Bal) AS balance FROM data WHERE Date != 'None'\")\n",
    "    сonnect.commit()\n",
    "    print(\"Запись успешно обновлена\")\n",
    "    balance_with_ipot = conn.fetchall()[0][0]\n",
    "    conn.execute(\"SELECT SUM(Cheq_Bal+Sav_Bal+Debt_Bal) AS balance FROM data \")\n",
    "    сonnect.commit()\n",
    "    print(\"Запись успешно обновлена\")\n",
    "    balance_without_ipot = conn.fetchall()[0][0] - balance_with_ipot\n",
    "\n",
    "    print(\"with mortgage\",balance_with_ipot,\"\\n\" \"without mortgage\",balance_without_ipot)\n"
   ]
  },
  {
   "cell_type": "code",
   "execution_count": 170,
   "metadata": {},
   "outputs": [
    {
     "name": "stdout",
     "output_type": "stream",
     "text": [
      "Запись успешно обновлена\n",
      "Запись успешно обновлена\n",
      "with mortgage 1406140.9200000002 \n",
      "without mortgage 5167437.4899999965\n"
     ]
    }
   ],
   "source": [
    "comparison(c)"
   ]
  },
  {
   "attachments": {},
   "cell_type": "markdown",
   "metadata": {},
   "source": [
    "Есть ли разница в среднем по каждому из типов баланса у клиентов, которые приобрели ипотеку и у клиентов, которые её не приобретали?"
   ]
  },
  {
   "cell_type": "code",
   "execution_count": 183,
   "metadata": {},
   "outputs": [],
   "source": [
    "def check_avg(conn):\n",
    "    # conn.execute(\"SELECT COUNT(Cheq_Bal) FROM data\")\n",
    "    conn.execute(\"SELECT AVG(Cheq_Bal), AVG(Sav_Bal), AVG(Debt_Bal) AS balance FROM data WHERE Date != 'None'\")\n",
    "    avg_params_with = conn.fetchall()\n",
    "    conn.execute(\"SELECT AVG(Cheq_Bal), AVG(Sav_Bal), AVG(Debt_Bal) AS balance FROM data WHERE Date IS NULL\")\n",
    "    avg_params_without = conn.fetchall()\n",
    "    print(\"with mortgage\")\n",
    "    for items in avg_params_with:\n",
    "        print(\"Cheq_Bal_AVG:\",items[0], 'Sav_Bal_AVG:', items[1], 'Debt_Bal:', items[2] )\n",
    "    print(\"without mortgage\")\n",
    "    for items in avg_params_without:\n",
    "        print(\"Cheq_Bal_AVG:\",items[0], 'Sav_Bal_AVG:', items[1], 'Debt_Bal:', items[2] ) \n",
    "    print('difference')\n",
    "    for i in range(len(avg_params_without)):\n",
    "        print(\"Cheq_Bal_AVG:\",avg_params_with[0][0] - avg_params_without[0][0], 'Sav_Bal_AVG:', avg_params_with[0][1]- avg_params_without[0][1], 'Debt_Bal:', avg_params_with[0][2]-avg_params_without[0][2] ) "
   ]
  },
  {
   "cell_type": "code",
   "execution_count": 184,
   "metadata": {},
   "outputs": [
    {
     "name": "stdout",
     "output_type": "stream",
     "text": [
      "with mortgage\n",
      "Cheq_Bal_AVG: 2757.975641025641 Sav_Bal_AVG: 29627.56435897436 Debt_Bal: 3669.355384615386\n",
      "without mortgage\n",
      "Cheq_Bal_AVG: 1996.6313664596285 Sav_Bal_AVG: 20257.209813664605 Debt_Bal: 9842.043850931674\n",
      "difference\n",
      "Cheq_Bal_AVG: 761.3442745660125 Sav_Bal_AVG: 9370.354545309754 Debt_Bal: -6172.688466316287\n"
     ]
    }
   ],
   "source": [
    "check_avg(c)"
   ]
  },
  {
   "attachments": {},
   "cell_type": "markdown",
   "metadata": {},
   "source": [
    "Выберите самого возрастного получателя ипотеки."
   ]
  },
  {
   "cell_type": "code",
   "execution_count": 189,
   "metadata": {},
   "outputs": [],
   "source": [
    "def max_age(conn):\n",
    "    conn.execute(\"SELECT *  FROM data WHERE Age = (SELECT MAX(Age) FROM data)\")\n",
    "    data = conn.fetchall()\n",
    "    for i in data:\n",
    "        print(i)"
   ]
  },
  {
   "cell_type": "code",
   "execution_count": 190,
   "metadata": {},
   "outputs": [
    {
     "name": "stdout",
     "output_type": "stream",
     "text": [
      "(34, 0, 2109.47, 24618.52, 4638.09, 0, 60, None)\n",
      "(47, 0, 2462.42, 18250.63, 13873.02, 1, 60, None)\n",
      "(148, 0, 1739.48, 18678.09, 16890.05, 0, 60, None)\n",
      "(176, 0, 1409.93, 22047.67, 0.0, 1, 60, None)\n"
     ]
    }
   ],
   "source": [
    "max_age(c)"
   ]
  },
  {
   "attachments": {},
   "cell_type": "markdown",
   "metadata": {},
   "source": [
    "Выберите клиента, который раньше всех получил ипотеку."
   ]
  },
  {
   "cell_type": "code",
   "execution_count": 196,
   "metadata": {},
   "outputs": [],
   "source": [
    "def early_date(conn):\n",
    "    conn.execute(\"SELECT *  FROM data WHERE Date = (SELECT MIN(Date) FROM data)\")\n",
    "    data = conn.fetchall()\n",
    "    for i in data:\n",
    "        print(i)"
   ]
  },
  {
   "cell_type": "code",
   "execution_count": 197,
   "metadata": {},
   "outputs": [
    {
     "name": "stdout",
     "output_type": "stream",
     "text": [
      "(185, 1, 1759.04, 29198.17, 3285.39, 1, 36, '01.04.2017')\n"
     ]
    }
   ],
   "source": [
    "early_date(c)"
   ]
  },
  {
   "attachments": {},
   "cell_type": "markdown",
   "metadata": {},
   "source": [
    "# СОЗДАНИЕ ТАБЛИЦЫ\n"
   ]
  },
  {
   "attachments": {},
   "cell_type": "markdown",
   "metadata": {},
   "source": [
    "Создайте любую базу данных в sqlite3, состоящую из 5 колонок, одна из колонок обязательно должна быть типа REAL. (Названия колонок любые, какие захотите)"
   ]
  },
  {
   "cell_type": "code",
   "execution_count": 202,
   "metadata": {},
   "outputs": [
    {
     "data": {
      "text/plain": [
       "<sqlite3.Cursor at 0x21908b7b260>"
      ]
     },
     "execution_count": 202,
     "metadata": {},
     "output_type": "execute_result"
    }
   ],
   "source": [
    "c.execute('CREATE TABLE IF NOT EXISTS new_table (Cust_ID INTEGER, Anime TEXT, Age INTEGER, Сoefficient_like REAL, Сoefficient_rate REAL )')"
   ]
  },
  {
   "attachments": {},
   "cell_type": "markdown",
   "metadata": {},
   "source": [
    "Добавьте 3 полностью заполненные строки в вашу БД."
   ]
  },
  {
   "cell_type": "code",
   "execution_count": 212,
   "metadata": {},
   "outputs": [],
   "source": [
    "c.execute(\"INSERT INTO new_table (Cust_ID, Anime, Age, Сoefficient_like, Сoefficient_rate ) VALUES (1, 'A', 26, 21.4, 25.6)\")\n",
    "c.execute(\"INSERT INTO new_table (Cust_ID, Anime, Age, Сoefficient_like, Сoefficient_rate ) VALUES (2, 'B', 21, 100.1, 10.6)\")\n",
    "c.execute(\"INSERT INTO new_table (Cust_ID, Anime, Age, Сoefficient_like, Сoefficient_rate ) VALUES (3, 'C', 99, 0.4, 0.6)\")\n",
    "сonnect.commit()"
   ]
  },
  {
   "attachments": {},
   "cell_type": "markdown",
   "metadata": {},
   "source": [
    "Удалите строку из колонки типа REAL (из пункта 8), в которой значение признака среднее (то есть не минимальное и не максимальное). Напрямую указывать значение из этой строки нельзя."
   ]
  },
  {
   "cell_type": "code",
   "execution_count": 213,
   "metadata": {},
   "outputs": [
    {
     "data": {
      "text/plain": [
       "<sqlite3.Cursor at 0x21908b7b260>"
      ]
     },
     "execution_count": 213,
     "metadata": {},
     "output_type": "execute_result"
    }
   ],
   "source": [
    "c.execute(\"DELETE FROM new_table WHERE Сoefficient_like = (SELECT MIN(Сoefficient_like) FROM new_table) AND (SELECT MAX(Сoefficient_like) FROM new_table)\")"
   ]
  },
  {
   "cell_type": "code",
   "execution_count": 214,
   "metadata": {},
   "outputs": [],
   "source": [
    "сonnect.commit()"
   ]
  }
 ],
 "metadata": {
  "kernelspec": {
   "display_name": "Python 3.9 (tensorflow)",
   "language": "python",
   "name": "tensorflow"
  },
  "language_info": {
   "codemirror_mode": {
    "name": "ipython",
    "version": 3
   },
   "file_extension": ".py",
   "mimetype": "text/x-python",
   "name": "python",
   "nbconvert_exporter": "python",
   "pygments_lexer": "ipython3",
   "version": "3.9.13"
  },
  "orig_nbformat": 4,
  "vscode": {
   "interpreter": {
    "hash": "a65de8c931b388a9bc6e0bc465c0c6fe0a811da7d30de2aaa2b96780d2f2ccdc"
   }
  }
 },
 "nbformat": 4,
 "nbformat_minor": 2
}
